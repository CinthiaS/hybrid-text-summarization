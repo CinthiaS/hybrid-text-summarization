{
 "cells": [
  {
   "cell_type": "code",
   "execution_count": 23,
   "source": [
    "from sumy.parsers.plaintext import PlaintextParser\n",
    "from sumy.nlp.tokenizers import Tokenizer\n",
    "from sumy.summarizers.lex_rank import LexRankSummarizer as SummarizerLex\n",
    "from sumy.summarizers.sum_basic import SumBasicSummarizer as SummarizerSumBasic\n",
    "from sumy.summarizers.text_rank import TextRankSummarizer  as SummarizerTextrank\n",
    "from sumy.nlp.stemmers import Stemmer\n",
    "from sumy.utils import get_stop_words\n",
    "\n",
    "LANGUAGE = \"english\"\n",
    "\n",
    "import sys\n",
    "sys.path.insert(0, '../src')\n",
    "\n",
    "import metrics as me"
   ],
   "outputs": [],
   "metadata": {}
  },
  {
   "cell_type": "code",
   "execution_count": 24,
   "source": [
    "def summarization_one_file(summarizer, parser, SENTENCES_COUNT):\n",
    "\n",
    "    sentences = []\n",
    "    for sentence in summarizer(parser.document, SENTENCES_COUNT):\n",
    "        sentences.append(str(sentence))\n",
    "\n",
    "    return sentences\n",
    "\n",
    "def summarization_all_files(patents, model='textrank', SENTENCES_COUNT=3):\n",
    "\n",
    "    stemmer = Stemmer(LANGUAGE)\n",
    "\n",
    "    if model == 'textrank':\n",
    "\n",
    "        summarizer = SummarizerTextrank(stemmer)\n",
    "        summarizer.stop_words = get_stop_words(LANGUAGE)\n",
    "\n",
    "    elif model == 'sumbasic':\n",
    "\n",
    "        summarizer = SummarizerSumBasic(stemmer)\n",
    "        summarizer.stop_words = get_stop_words(LANGUAGE)\n",
    "\n",
    "\n",
    "    summaries = []\n",
    "\n",
    "    f = open(\"{}_summ.txt\".format(model), 'w')\n",
    "    for text in patents:\n",
    "\n",
    "        parser = PlaintextParser(text, Tokenizer(LANGUAGE))\n",
    "        summ = summarization_one_file(summarizer, parser, SENTENCES_COUNT=SENTENCES_COUNT)\n",
    "        summ = ' '.join(summ)\n",
    "        summaries.append(summ)\n",
    "        f.write(summ)\n",
    "\n",
    "    f.close()\n",
    "\n",
    "    return summaries"
   ],
   "outputs": [],
   "metadata": {}
  },
  {
   "cell_type": "code",
   "execution_count": 34,
   "source": [
    "def evaluation(candidates, references, sources, algorithm):\n",
    "\n",
    "    metrics=[\"ROUGE_1\", \"ROUGE_2\", \"ROUGE_L\", \"BLEU\"]\n",
    "    me.create_report_valid(\n",
    "            candidates, references, sources,\n",
    "            name_file=\"../validation/{}.xml\".format(algorithm),\n",
    "            metrics=metrics)"
   ],
   "outputs": [],
   "metadata": {}
  },
  {
   "cell_type": "code",
   "execution_count": 111,
   "source": [
    "patents = open(\"../sumdata/abstract.valid.pp.txt\").readlines()\n",
    "titles = open(\"../sumdata/title.valid.pp.txt\").readlines()"
   ],
   "outputs": [
    {
     "output_type": "execute_result",
     "data": {
      "text/plain": [
       "8307"
      ]
     },
     "metadata": {},
     "execution_count": 111
    }
   ],
   "metadata": {}
  },
  {
   "cell_type": "markdown",
   "source": [
    "# TextRank"
   ],
   "metadata": {}
  },
  {
   "cell_type": "code",
   "execution_count": 116,
   "source": [
    "candidates_text = summarization_all_files(patents, model='textrank', SENTENCES_COUNT=1)\n",
    "evaluation(candidates_text, titles, patents, 'textrank')"
   ],
   "outputs": [],
   "metadata": {}
  },
  {
   "cell_type": "markdown",
   "source": [
    "# SumBasic"
   ],
   "metadata": {}
  },
  {
   "cell_type": "code",
   "execution_count": 118,
   "source": [
    "candidates_sumbasic = summarization_all_files(patents, model='sumbasic', SENTENCES_COUNT=1)\n",
    "evaluation(candidates_sumbasic, titles, patents, 'sumbasic')"
   ],
   "outputs": [],
   "metadata": {}
  }
 ],
 "metadata": {
  "orig_nbformat": 4,
  "language_info": {
   "name": "python",
   "version": "3.8.10",
   "mimetype": "text/x-python",
   "codemirror_mode": {
    "name": "ipython",
    "version": 3
   },
   "pygments_lexer": "ipython3",
   "nbconvert_exporter": "python",
   "file_extension": ".py"
  },
  "kernelspec": {
   "name": "python3",
   "display_name": "Python 3.8.10 64-bit ('estudos': conda)"
  },
  "interpreter": {
   "hash": "8189520348208f2d7a55cd5e08e528a8ea0eb6334cdd1bc6eb49a516298cd84a"
  }
 },
 "nbformat": 4,
 "nbformat_minor": 2
}